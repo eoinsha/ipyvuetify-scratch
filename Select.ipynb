{
 "cells": [
  {
   "cell_type": "code",
   "execution_count": 1,
   "metadata": {},
   "outputs": [],
   "source": [
    "import ipywidgets\n",
    "import ipyvuetify as v"
   ]
  },
  {
   "cell_type": "code",
   "execution_count": 10,
   "metadata": {},
   "outputs": [],
   "source": [
    "def handle_change(source, event_type, value):\n",
    "    print(f'{event_type} from {source} with value {value}')"
   ]
  },
  {
   "cell_type": "code",
   "execution_count": 11,
   "metadata": {},
   "outputs": [],
   "source": [
    "def observer(args):\n",
    "    name = args['name']  # 'v_model'\n",
    "    old_value = args['old']\n",
    "    new_value = args['new']\n",
    "    owner = args['owner']  # Select(...)\n",
    "    event_type = args['type']  # 'change'\n",
    "    print(f'Observed {event_type} from {owner}, {name} from {old_value} to {new_value}')"
   ]
  },
  {
   "cell_type": "code",
   "execution_count": 12,
   "metadata": {},
   "outputs": [
    {
     "data": {
      "application/vnd.jupyter.widget-view+json": {
       "model_id": "d0de908bf47d419c89fa0416bd6f5ed6",
       "version_major": 2,
       "version_minor": 0
      },
      "text/plain": [
       "Layout(children=[Select(items=['A', 'B', 'C'], v_model='A')])"
      ]
     },
     "metadata": {},
     "output_type": "display_data"
    },
    {
     "name": "stdout",
     "output_type": "stream",
     "text": [
      "Observed change from Select(items=['A', 'B', 'C'], v_model='C'), v_model from A to C\n",
      "change from Select(items=['A', 'B', 'C'], v_model='C') with value C\n",
      "Observed change from Select(items=['A', 'B', 'C'], v_model='A'), v_model from C to A\n",
      "change from Select(items=['A', 'B', 'C'], v_model='A') with value A\n"
     ]
    }
   ],
   "source": [
    "options = ['A', 'B', 'C']\n",
    "selector = v.Select(items=options, v_model=options[0])\n",
    "selector.on_event('change', handle_change)\n",
    "selector.observe(observer, names='v_model')\n",
    "v.Layout(children=[selector])"
   ]
  },
  {
   "cell_type": "code",
   "execution_count": null,
   "metadata": {},
   "outputs": [],
   "source": []
  }
 ],
 "metadata": {
  "kernelspec": {
   "display_name": "Python 3",
   "language": "python",
   "name": "python3"
  },
  "language_info": {
   "codemirror_mode": {
    "name": "ipython",
    "version": 3
   },
   "file_extension": ".py",
   "mimetype": "text/x-python",
   "name": "python",
   "nbconvert_exporter": "python",
   "pygments_lexer": "ipython3",
   "version": "3.8.3"
  }
 },
 "nbformat": 4,
 "nbformat_minor": 4
}
